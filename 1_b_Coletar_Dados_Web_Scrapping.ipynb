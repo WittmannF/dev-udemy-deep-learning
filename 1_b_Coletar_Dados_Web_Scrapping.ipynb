{
  "nbformat": 4,
  "nbformat_minor": 0,
  "metadata": {
    "colab": {
      "name": "1.b Coletar Dados - Web Scrapping.ipynb",
      "provenance": [],
      "collapsed_sections": [],
      "mount_file_id": "1azU0Y2C3lM3nSg3vPoVoRtXFTWVwgAH0",
      "authorship_tag": "ABX9TyMHIm1Fl7LaazWNKKsaWMpe",
      "include_colab_link": true
    },
    "kernelspec": {
      "name": "python3",
      "display_name": "Python 3"
    }
  },
  "cells": [
    {
      "cell_type": "markdown",
      "metadata": {
        "id": "view-in-github",
        "colab_type": "text"
      },
      "source": [
        "<a href=\"https://colab.research.google.com/github/WittmannF/dev-udemy-deep-learning/blob/master/1_b_Coletar_Dados_Web_Scrapping.ipynb\" target=\"_parent\"><img src=\"https://colab.research.google.com/assets/colab-badge.svg\" alt=\"Open In Colab\"/></a>"
      ]
    },
    {
      "cell_type": "code",
      "metadata": {
        "id": "Jknxe6tWHZsu",
        "colab_type": "code",
        "colab": {}
      },
      "source": [
        "# Imports\n",
        "import pandas as pd\n",
        "import numpy as np\n",
        "import re\n",
        "from time import sleep\n",
        "import requests\n",
        "from bs4 import BeautifulSoup"
      ],
      "execution_count": 0,
      "outputs": []
    },
    {
      "cell_type": "code",
      "metadata": {
        "id": "XSmwUE3bJkoD",
        "colab_type": "code",
        "colab": {}
      },
      "source": [
        "# Parametros\n",
        "ZONAS = ['norte', 'sul', 'leste', 'oeste']\n",
        "PAGINAS = ['', '_Desde_49', '_Desde_97', '_Desde_145']\n",
        "URL_PADRAO = 'https://imoveis.mercadolivre.com.br/casas/aluguel/sao-paulo/sao-paulo-zona-{}/{}'\n",
        "\n",
        "# Padroes regex\n",
        "RE_PRECO_M2 = 'R\\$ (.*)  (.*) m²'\n",
        "RE_QUARTO = ' \\| (.*) quarto'"
      ],
      "execution_count": 0,
      "outputs": []
    },
    {
      "cell_type": "code",
      "metadata": {
        "id": "ofs0dbabJk7V",
        "colab_type": "code",
        "colab": {}
      },
      "source": [
        "# Funcoes\n",
        "def pegar_codigos_fontes():\n",
        "    codigo_fontes = []\n",
        "    for zona in ZONAS:\n",
        "        for pg in PAGINAS:\n",
        "            url = URL_PADRAO.format(zona, pg)\n",
        "            print(f'Carregando URL: {url}')\n",
        "            codigo_fonte = requests.get(url).content\n",
        "            codigo_fontes.append(codigo_fonte)\n",
        "            sleep(3)\n",
        "    return codigo_fontes\n",
        "\n",
        "def html_parse(codigo_fontes):\n",
        "    soups = []\n",
        "    for source in codigo_fontes:\n",
        "        soup = BeautifulSoup(source, 'html.parser')\n",
        "        soups.append(soup)\n",
        "    return soups\n",
        "\n",
        "def pegar_resultados(codigo_fontes_bs):\n",
        "    all_results = []\n",
        "    for soup in codigo_fontes_bs:\n",
        "        result = soup.findAll(\"li\", {\"class\": \"results-item highlighted article grid \"})\n",
        "        all_results.extend(result)\n",
        "    return all_results\n",
        "\n",
        "def extrair_atributos(all_results):\n",
        "    n_per_zonas = len(all_results)//4\n",
        "\n",
        "    all_zones = []\n",
        "\n",
        "    for z in ZONAS:\n",
        "        all_zones.extend([z]*n_per_zonas)\n",
        "\n",
        "    dados = {'zona': [], 'quartos': [], 'area': [], 'preco': []}\n",
        "\n",
        "    for r, zona in zip(all_results, all_zones):\n",
        "        try:\n",
        "            preco, area = re.findall(RE_PRECO_M2, r.text)[0]\n",
        "            n_quartos = re.findall(RE_QUARTO, r.text)\n",
        "            if n_quartos == []:\n",
        "                n_quartos = 'NaN'\n",
        "            else:\n",
        "                n_quartos = n_quartos[0]\n",
        "            \n",
        "            dados['zona'].append(zona)\n",
        "            dados['quartos'].append(n_quartos)\n",
        "            dados['area'].append(area)\n",
        "            dados['preco'].append(preco)\n",
        "        except Exception as e:\n",
        "            print(\"Erro, pulando elemento.\")\n",
        "            print(\"O seguinte erro foi retornado: \")\n",
        "            print(e)\n",
        "            \n",
        "    df = pd.DataFrame(dados)\n",
        "    return df\n",
        "\n",
        "def converter_tipos(df):\n",
        "    df['quartos'] = df['quartos'].astype(float)\n",
        "    df['area'] = df['area'].astype(float)\n",
        "    df['preco'] = df['preco'].apply(lambda x: float(x.replace('.', '')))\n",
        "    return df\n"
      ],
      "execution_count": 0,
      "outputs": []
    },
    {
      "cell_type": "code",
      "metadata": {
        "id": "OH_9O_fbJlG7",
        "colab_type": "code",
        "outputId": "3f179741-ad6b-4b52-91a7-d91e2361a460",
        "colab": {
          "base_uri": "https://localhost:8080/",
          "height": 286
        }
      },
      "source": [
        "# Execucao\n",
        "\n",
        "# 1. Pegar codigos fontes\n",
        "codigos_fontes = pegar_codigos_fontes()"
      ],
      "execution_count": 0,
      "outputs": [
        {
          "output_type": "stream",
          "text": [
            "Carregando URL: https://imoveis.mercadolivre.com.br/casas/aluguel/sao-paulo/sao-paulo-zona-norte/\n",
            "Carregando URL: https://imoveis.mercadolivre.com.br/casas/aluguel/sao-paulo/sao-paulo-zona-norte/_Desde_49\n",
            "Carregando URL: https://imoveis.mercadolivre.com.br/casas/aluguel/sao-paulo/sao-paulo-zona-norte/_Desde_97\n",
            "Carregando URL: https://imoveis.mercadolivre.com.br/casas/aluguel/sao-paulo/sao-paulo-zona-norte/_Desde_145\n",
            "Carregando URL: https://imoveis.mercadolivre.com.br/casas/aluguel/sao-paulo/sao-paulo-zona-sul/\n",
            "Carregando URL: https://imoveis.mercadolivre.com.br/casas/aluguel/sao-paulo/sao-paulo-zona-sul/_Desde_49\n",
            "Carregando URL: https://imoveis.mercadolivre.com.br/casas/aluguel/sao-paulo/sao-paulo-zona-sul/_Desde_97\n",
            "Carregando URL: https://imoveis.mercadolivre.com.br/casas/aluguel/sao-paulo/sao-paulo-zona-sul/_Desde_145\n",
            "Carregando URL: https://imoveis.mercadolivre.com.br/casas/aluguel/sao-paulo/sao-paulo-zona-leste/\n",
            "Carregando URL: https://imoveis.mercadolivre.com.br/casas/aluguel/sao-paulo/sao-paulo-zona-leste/_Desde_49\n",
            "Carregando URL: https://imoveis.mercadolivre.com.br/casas/aluguel/sao-paulo/sao-paulo-zona-leste/_Desde_97\n",
            "Carregando URL: https://imoveis.mercadolivre.com.br/casas/aluguel/sao-paulo/sao-paulo-zona-leste/_Desde_145\n",
            "Carregando URL: https://imoveis.mercadolivre.com.br/casas/aluguel/sao-paulo/sao-paulo-zona-oeste/\n",
            "Carregando URL: https://imoveis.mercadolivre.com.br/casas/aluguel/sao-paulo/sao-paulo-zona-oeste/_Desde_49\n",
            "Carregando URL: https://imoveis.mercadolivre.com.br/casas/aluguel/sao-paulo/sao-paulo-zona-oeste/_Desde_97\n",
            "Carregando URL: https://imoveis.mercadolivre.com.br/casas/aluguel/sao-paulo/sao-paulo-zona-oeste/_Desde_145\n"
          ],
          "name": "stdout"
        }
      ]
    },
    {
      "cell_type": "code",
      "metadata": {
        "id": "9s4QuP0iLa_M",
        "colab_type": "code",
        "colab": {}
      },
      "source": [
        "# 2. Converter para Parser do Beautiful Soup\n",
        "codigo_fontes_bs = html_parse(codigos_fontes)"
      ],
      "execution_count": 0,
      "outputs": []
    },
    {
      "cell_type": "code",
      "metadata": {
        "id": "uG-Oy5mdLv0t",
        "colab_type": "code",
        "colab": {}
      },
      "source": [
        "# 3. Pegar resultados\n",
        "all_results = pegar_resultados(codigo_fontes_bs)"
      ],
      "execution_count": 0,
      "outputs": []
    },
    {
      "cell_type": "code",
      "metadata": {
        "id": "hiIn-lNHU1we",
        "colab_type": "code",
        "outputId": "68ac8f13-1d15-4355-e2c8-84c5d58b1bad",
        "colab": {
          "base_uri": "https://localhost:8080/",
          "height": 67
        }
      },
      "source": [
        "# 4. Extrair atributos\n",
        "df = extrair_atributos(all_results)"
      ],
      "execution_count": 0,
      "outputs": [
        {
          "output_type": "stream",
          "text": [
            "Erro, pulando elemento.\n",
            "O seguinte erro foi retornado: \n",
            "list index out of range\n"
          ],
          "name": "stdout"
        }
      ]
    },
    {
      "cell_type": "code",
      "metadata": {
        "colab_type": "code",
        "id": "jYdXgyZWVZ1_",
        "colab": {}
      },
      "source": [
        "# 5. Converter tipos de atributos\n",
        "df = converter_tipos(df)"
      ],
      "execution_count": 0,
      "outputs": []
    },
    {
      "cell_type": "code",
      "metadata": {
        "id": "u9diS-ukT1xe",
        "colab_type": "code",
        "outputId": "6b672c13-9373-4540-edff-a59954a3c29b",
        "colab": {
          "base_uri": "https://localhost:8080/",
          "height": 195
        }
      },
      "source": [
        "df.head()"
      ],
      "execution_count": 0,
      "outputs": [
        {
          "output_type": "execute_result",
          "data": {
            "text/html": [
              "<div>\n",
              "<style scoped>\n",
              "    .dataframe tbody tr th:only-of-type {\n",
              "        vertical-align: middle;\n",
              "    }\n",
              "\n",
              "    .dataframe tbody tr th {\n",
              "        vertical-align: top;\n",
              "    }\n",
              "\n",
              "    .dataframe thead th {\n",
              "        text-align: right;\n",
              "    }\n",
              "</style>\n",
              "<table border=\"1\" class=\"dataframe\">\n",
              "  <thead>\n",
              "    <tr style=\"text-align: right;\">\n",
              "      <th></th>\n",
              "      <th>zona</th>\n",
              "      <th>quartos</th>\n",
              "      <th>area</th>\n",
              "      <th>preco</th>\n",
              "    </tr>\n",
              "  </thead>\n",
              "  <tbody>\n",
              "    <tr>\n",
              "      <th>0</th>\n",
              "      <td>norte</td>\n",
              "      <td>1.0</td>\n",
              "      <td>40.0</td>\n",
              "      <td>1100.0</td>\n",
              "    </tr>\n",
              "    <tr>\n",
              "      <th>1</th>\n",
              "      <td>norte</td>\n",
              "      <td>2.0</td>\n",
              "      <td>90.0</td>\n",
              "      <td>1100.0</td>\n",
              "    </tr>\n",
              "    <tr>\n",
              "      <th>2</th>\n",
              "      <td>norte</td>\n",
              "      <td>1.0</td>\n",
              "      <td>50.0</td>\n",
              "      <td>700.0</td>\n",
              "    </tr>\n",
              "    <tr>\n",
              "      <th>3</th>\n",
              "      <td>norte</td>\n",
              "      <td>1.0</td>\n",
              "      <td>70.0</td>\n",
              "      <td>600.0</td>\n",
              "    </tr>\n",
              "    <tr>\n",
              "      <th>4</th>\n",
              "      <td>norte</td>\n",
              "      <td>2.0</td>\n",
              "      <td>90.0</td>\n",
              "      <td>1200.0</td>\n",
              "    </tr>\n",
              "  </tbody>\n",
              "</table>\n",
              "</div>"
            ],
            "text/plain": [
              "    zona  quartos  area   preco\n",
              "0  norte      1.0  40.0  1100.0\n",
              "1  norte      2.0  90.0  1100.0\n",
              "2  norte      1.0  50.0   700.0\n",
              "3  norte      1.0  70.0   600.0\n",
              "4  norte      2.0  90.0  1200.0"
            ]
          },
          "metadata": {
            "tags": []
          },
          "execution_count": 36
        }
      ]
    },
    {
      "cell_type": "code",
      "metadata": {
        "id": "gm-sU_TrZWCU",
        "colab_type": "code",
        "outputId": "85f5fa6a-2e5e-4af5-88fe-2795f65544a5",
        "colab": {
          "base_uri": "https://localhost:8080/",
          "height": 306
        }
      },
      "source": [
        "!pip install easycolab\n",
        "import easycolab as ec\n",
        "ec.mount()"
      ],
      "execution_count": 0,
      "outputs": [
        {
          "output_type": "stream",
          "text": [
            "Collecting easycolab\n",
            "  Downloading https://files.pythonhosted.org/packages/7a/ff/017693c8f12c9b586d2bc9965ebed05b8aa1d2ba0ec9f1d88df9f0a70542/easycolab-0.1b29.tar.gz\n",
            "Building wheels for collected packages: easycolab\n",
            "  Building wheel for easycolab (setup.py) ... \u001b[?25l\u001b[?25hdone\n",
            "  Created wheel for easycolab: filename=easycolab-0.1b29-cp36-none-any.whl size=4472 sha256=a3d0b0b59f0213f809718c692dd2989ac2ad81ca6d716570be5123ca3f5698a5\n",
            "  Stored in directory: /root/.cache/pip/wheels/1b/c3/03/9d9371c4d3a117eff9caf88148e2f18ddf556543b4475055f1\n",
            "Successfully built easycolab\n",
            "Installing collected packages: easycolab\n",
            "Successfully installed easycolab-0.1b29\n",
            "Go to this URL in a browser: https://accounts.google.com/o/oauth2/auth?client_id=947318989803-6bn6qk8qdgf4n4g3pfee6491hc0brc4i.apps.googleusercontent.com&redirect_uri=urn%3aietf%3awg%3aoauth%3a2.0%3aoob&response_type=code&scope=email%20https%3a%2f%2fwww.googleapis.com%2fauth%2fdocs.test%20https%3a%2f%2fwww.googleapis.com%2fauth%2fdrive%20https%3a%2f%2fwww.googleapis.com%2fauth%2fdrive.photos.readonly%20https%3a%2f%2fwww.googleapis.com%2fauth%2fpeopleapi.readonly\n",
            "\n",
            "Enter your authorization code:\n",
            "··········\n",
            "Mounted at /content/gdrive\n",
            "Opening directory /content/gdrive/My Drive/\n",
            "Done!\n"
          ],
          "name": "stdout"
        }
      ]
    },
    {
      "cell_type": "code",
      "metadata": {
        "id": "gLby5dWFZlLQ",
        "colab_type": "code",
        "colab": {}
      },
      "source": [
        "mkdir 'CalculadoraImoveis'"
      ],
      "execution_count": 0,
      "outputs": []
    },
    {
      "cell_type": "code",
      "metadata": {
        "id": "MdaQMZcrZsXo",
        "colab_type": "code",
        "outputId": "b33724c3-6236-4590-8cbc-0bfdc96475b0",
        "colab": {
          "base_uri": "https://localhost:8080/",
          "height": 34
        }
      },
      "source": [
        "cd 'CalculadoraImoveis'"
      ],
      "execution_count": 0,
      "outputs": [
        {
          "output_type": "stream",
          "text": [
            "/content/drive/My Drive/CalculadoraImoveis\n"
          ],
          "name": "stdout"
        }
      ]
    },
    {
      "cell_type": "code",
      "metadata": {
        "id": "jMFrz1gqYCrU",
        "colab_type": "code",
        "colab": {}
      },
      "source": [
        "df.to_csv('dados_calculadora_imoveis.csv', index=False)"
      ],
      "execution_count": 0,
      "outputs": []
    },
    {
      "cell_type": "code",
      "metadata": {
        "id": "M7QWHTdpZIh7",
        "colab_type": "code",
        "colab": {}
      },
      "source": [
        ""
      ],
      "execution_count": 0,
      "outputs": []
    }
  ]
}